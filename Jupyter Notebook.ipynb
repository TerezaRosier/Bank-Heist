{
 "cells": [
  {
   "cell_type": "markdown",
   "id": "0dc4d7ba",
   "metadata": {},
   "source": [
    "# Bank Heist Project Submission"
   ]
  },
  {
   "cell_type": "markdown",
   "id": "6f45e6fe",
   "metadata": {},
   "source": [
    "**Description**\n",
    "\n",
    "Given a list of bank, their locations, the amount of money each bank holds, and the amount of time it would take to rob each bank; apply your knowledge of algorithms to make as much profit as possible!"
   ]
  },
  {
   "cell_type": "markdown",
   "id": "55fe7d14",
   "metadata": {},
   "source": [
    "**Design a solution that finds a list of banks that when robbed will maximize your profit, while following these constraints:**\n",
    "\n",
    "- Total time for robbery cannot exceed **24 hours**. This includes travel time between banks + time it takes to rob the bank + time it takes to get to the helicopter escape zone\n",
    "\n",
    "- Travel speed from one bank to another is **30 km/h**\n",
    "    - Use the x and y coordinates to calculate the distance (in km) between banks\n",
    "    - Use the distance and travel speed to calculate the amount of time it takes to get from one bank to another\n",
    "\n",
    "- Solution must run under **3 minutes**\n",
    "\n",
    "- You can start anywhere, but you have to end at the **helicopter escape zone** located at coordinates **(0,0)**"
   ]
  },
  {
   "cell_type": "markdown",
   "id": "86bfddb8",
   "metadata": {},
   "source": [
    "**Hints**\n",
    "\n",
    "Most of the design paradigms you saw in class will work for this. Start with something that's easier (brute-force or greedy algorithm) and then work towards a better design once it works:\n",
    "\n",
    "    - Divide-and-conquer\n",
    "    - Brute Force\n",
    "    - Greedy Algorithm\n",
    "    - Dynamic Programming\n",
    "    - Backtracking\n",
    "    - Breadth-first & Depth-first search\n",
    "Some we haven't covered:\n",
    "\n",
    "    - Branch & Bound\n",
    "    - Prune & Search\n",
    "    \n",
    "Because there are too many banks at each step, you will need to select only some candidates to explore.\n",
    "\n",
    "If you find yourself using a nearest-neighbors type of approach, consider using a KD-Tree or a Ball Tree to speed it up.\n",
    "\n",
    "There are good implementations of KD-Trees and nearest neighbours in scipy, sklearn and this [library](https://github.com/lmcinnes/pynndescent)\n",
    "\n",
    "You can work your algorithm backwards (starting at the end and backing up to the starting point) or forwards (finding a starting point and looping until there is no time left). They will lead to different designs and results."
   ]
  },
  {
   "cell_type": "markdown",
   "id": "9cd5334f",
   "metadata": {},
   "source": [
    "## Step 1: Imports\n",
    "\n",
    "You can import the libraries you intend on using here or as you go along."
   ]
  },
  {
   "cell_type": "code",
   "execution_count": 1,
   "id": "59fc734d",
   "metadata": {},
   "outputs": [],
   "source": [
    "import numpy as np\n",
    "import pandas as pd\n",
    "import matplotlib.pyplot as plt\n",
    "import math\n",
    "import time as tm\n",
    "from sklearn.neighbors import NearestNeighbors\n",
    "\n",
    "from check_solution import distance, check_solution\n"
   ]
  },
  {
   "cell_type": "markdown",
   "id": "56317788",
   "metadata": {},
   "source": [
    "## Step 2: Load Data\n",
    "\n",
    "The `bank_data.csv` file is located in the **data** folder. Make sure you use the correct path."
   ]
  },
  {
   "cell_type": "code",
   "execution_count": 2,
   "id": "4a308a28",
   "metadata": {},
   "outputs": [
    {
     "data": {
      "text/html": [
       "<div>\n",
       "<style scoped>\n",
       "    .dataframe tbody tr th:only-of-type {\n",
       "        vertical-align: middle;\n",
       "    }\n",
       "\n",
       "    .dataframe tbody tr th {\n",
       "        vertical-align: top;\n",
       "    }\n",
       "\n",
       "    .dataframe thead th {\n",
       "        text-align: right;\n",
       "    }\n",
       "</style>\n",
       "<table border=\"1\" class=\"dataframe\">\n",
       "  <thead>\n",
       "    <tr style=\"text-align: right;\">\n",
       "      <th></th>\n",
       "      <th>id</th>\n",
       "      <th>x_coordinate</th>\n",
       "      <th>y_coordinate</th>\n",
       "      <th>money</th>\n",
       "      <th>time (hr)</th>\n",
       "    </tr>\n",
       "  </thead>\n",
       "  <tbody>\n",
       "    <tr>\n",
       "      <th>0</th>\n",
       "      <td>0</td>\n",
       "      <td>2.851925</td>\n",
       "      <td>1.201712</td>\n",
       "      <td>29700</td>\n",
       "      <td>0.273403</td>\n",
       "    </tr>\n",
       "    <tr>\n",
       "      <th>1</th>\n",
       "      <td>1</td>\n",
       "      <td>4.150372</td>\n",
       "      <td>-2.654334</td>\n",
       "      <td>6500</td>\n",
       "      <td>0.064040</td>\n",
       "    </tr>\n",
       "    <tr>\n",
       "      <th>2</th>\n",
       "      <td>2</td>\n",
       "      <td>-1.494092</td>\n",
       "      <td>-1.230419</td>\n",
       "      <td>89400</td>\n",
       "      <td>0.127458</td>\n",
       "    </tr>\n",
       "    <tr>\n",
       "      <th>3</th>\n",
       "      <td>3</td>\n",
       "      <td>1.271326</td>\n",
       "      <td>-0.088520</td>\n",
       "      <td>96100</td>\n",
       "      <td>1.315029</td>\n",
       "    </tr>\n",
       "    <tr>\n",
       "      <th>4</th>\n",
       "      <td>4</td>\n",
       "      <td>2.471113</td>\n",
       "      <td>-0.592810</td>\n",
       "      <td>41100</td>\n",
       "      <td>0.164393</td>\n",
       "    </tr>\n",
       "    <tr>\n",
       "      <th>...</th>\n",
       "      <td>...</td>\n",
       "      <td>...</td>\n",
       "      <td>...</td>\n",
       "      <td>...</td>\n",
       "      <td>...</td>\n",
       "    </tr>\n",
       "    <tr>\n",
       "      <th>9995</th>\n",
       "      <td>9995</td>\n",
       "      <td>-2.472127</td>\n",
       "      <td>4.787304</td>\n",
       "      <td>2100</td>\n",
       "      <td>0.494904</td>\n",
       "    </tr>\n",
       "    <tr>\n",
       "      <th>9996</th>\n",
       "      <td>9996</td>\n",
       "      <td>1.034968</td>\n",
       "      <td>-4.321240</td>\n",
       "      <td>54900</td>\n",
       "      <td>0.492866</td>\n",
       "    </tr>\n",
       "    <tr>\n",
       "      <th>9997</th>\n",
       "      <td>9997</td>\n",
       "      <td>-0.512720</td>\n",
       "      <td>-2.949173</td>\n",
       "      <td>32200</td>\n",
       "      <td>0.933033</td>\n",
       "    </tr>\n",
       "    <tr>\n",
       "      <th>9998</th>\n",
       "      <td>9998</td>\n",
       "      <td>2.626841</td>\n",
       "      <td>-3.482923</td>\n",
       "      <td>5100</td>\n",
       "      <td>0.551312</td>\n",
       "    </tr>\n",
       "    <tr>\n",
       "      <th>9999</th>\n",
       "      <td>9999</td>\n",
       "      <td>-3.992507</td>\n",
       "      <td>0.090112</td>\n",
       "      <td>21000</td>\n",
       "      <td>1.107299</td>\n",
       "    </tr>\n",
       "  </tbody>\n",
       "</table>\n",
       "<p>10000 rows × 5 columns</p>\n",
       "</div>"
      ],
      "text/plain": [
       "        id  x_coordinate  y_coordinate  money  time (hr)\n",
       "0        0      2.851925      1.201712  29700   0.273403\n",
       "1        1      4.150372     -2.654334   6500   0.064040\n",
       "2        2     -1.494092     -1.230419  89400   0.127458\n",
       "3        3      1.271326     -0.088520  96100   1.315029\n",
       "4        4      2.471113     -0.592810  41100   0.164393\n",
       "...    ...           ...           ...    ...        ...\n",
       "9995  9995     -2.472127      4.787304   2100   0.494904\n",
       "9996  9996      1.034968     -4.321240  54900   0.492866\n",
       "9997  9997     -0.512720     -2.949173  32200   0.933033\n",
       "9998  9998      2.626841     -3.482923   5100   0.551312\n",
       "9999  9999     -3.992507      0.090112  21000   1.107299\n",
       "\n",
       "[10000 rows x 5 columns]"
      ]
     },
     "execution_count": 2,
     "metadata": {},
     "output_type": "execute_result"
    }
   ],
   "source": [
    "df = pd.read_csv('bank_data.csv')\n",
    "df"
   ]
  },
  {
   "cell_type": "markdown",
   "id": "68db7233",
   "metadata": {},
   "source": [
    "## Step 3: Data Exploration\n",
    "\n",
    "Explore the data set to get a general understanding of what you're working with.\n",
    "\n",
    "Feel free to add additional cells, and remove the ones you don't use."
   ]
  },
  {
   "cell_type": "code",
   "execution_count": 3,
   "id": "cbd0cd69",
   "metadata": {
    "scrolled": false
   },
   "outputs": [
    {
     "data": {
      "text/html": [
       "<div>\n",
       "<style scoped>\n",
       "    .dataframe tbody tr th:only-of-type {\n",
       "        vertical-align: middle;\n",
       "    }\n",
       "\n",
       "    .dataframe tbody tr th {\n",
       "        vertical-align: top;\n",
       "    }\n",
       "\n",
       "    .dataframe thead th {\n",
       "        text-align: right;\n",
       "    }\n",
       "</style>\n",
       "<table border=\"1\" class=\"dataframe\">\n",
       "  <thead>\n",
       "    <tr style=\"text-align: right;\">\n",
       "      <th></th>\n",
       "      <th>id</th>\n",
       "      <th>x_coordinate</th>\n",
       "      <th>y_coordinate</th>\n",
       "      <th>money</th>\n",
       "      <th>time (hr)</th>\n",
       "      <th>profitable</th>\n",
       "    </tr>\n",
       "  </thead>\n",
       "  <tbody>\n",
       "    <tr>\n",
       "      <th>0</th>\n",
       "      <td>3613</td>\n",
       "      <td>-1.950527</td>\n",
       "      <td>-1.495858</td>\n",
       "      <td>54400</td>\n",
       "      <td>0.000186</td>\n",
       "      <td>2.929603e+08</td>\n",
       "    </tr>\n",
       "    <tr>\n",
       "      <th>1</th>\n",
       "      <td>9546</td>\n",
       "      <td>-1.810721</td>\n",
       "      <td>-0.795421</td>\n",
       "      <td>75100</td>\n",
       "      <td>0.000788</td>\n",
       "      <td>9.530556e+07</td>\n",
       "    </tr>\n",
       "    <tr>\n",
       "      <th>2</th>\n",
       "      <td>3803</td>\n",
       "      <td>3.867586</td>\n",
       "      <td>0.918332</td>\n",
       "      <td>18500</td>\n",
       "      <td>0.000358</td>\n",
       "      <td>5.169381e+07</td>\n",
       "    </tr>\n",
       "    <tr>\n",
       "      <th>3</th>\n",
       "      <td>6528</td>\n",
       "      <td>-0.282937</td>\n",
       "      <td>3.224334</td>\n",
       "      <td>33900</td>\n",
       "      <td>0.000769</td>\n",
       "      <td>4.407762e+07</td>\n",
       "    </tr>\n",
       "    <tr>\n",
       "      <th>4</th>\n",
       "      <td>9583</td>\n",
       "      <td>3.393835</td>\n",
       "      <td>-2.790830</td>\n",
       "      <td>24000</td>\n",
       "      <td>0.001131</td>\n",
       "      <td>2.121396e+07</td>\n",
       "    </tr>\n",
       "    <tr>\n",
       "      <th>...</th>\n",
       "      <td>...</td>\n",
       "      <td>...</td>\n",
       "      <td>...</td>\n",
       "      <td>...</td>\n",
       "      <td>...</td>\n",
       "      <td>...</td>\n",
       "    </tr>\n",
       "    <tr>\n",
       "      <th>9995</th>\n",
       "      <td>1838</td>\n",
       "      <td>-2.179862</td>\n",
       "      <td>-3.064824</td>\n",
       "      <td>100</td>\n",
       "      <td>1.486872</td>\n",
       "      <td>6.725528e+01</td>\n",
       "    </tr>\n",
       "    <tr>\n",
       "      <th>9996</th>\n",
       "      <td>8832</td>\n",
       "      <td>1.934915</td>\n",
       "      <td>-4.278272</td>\n",
       "      <td>100</td>\n",
       "      <td>1.490015</td>\n",
       "      <td>6.711343e+01</td>\n",
       "    </tr>\n",
       "    <tr>\n",
       "      <th>9997</th>\n",
       "      <td>4764</td>\n",
       "      <td>0.565196</td>\n",
       "      <td>1.437413</td>\n",
       "      <td>100</td>\n",
       "      <td>1.491462</td>\n",
       "      <td>6.704829e+01</td>\n",
       "    </tr>\n",
       "    <tr>\n",
       "      <th>9998</th>\n",
       "      <td>2123</td>\n",
       "      <td>-3.105083</td>\n",
       "      <td>-1.135305</td>\n",
       "      <td>100</td>\n",
       "      <td>1.494467</td>\n",
       "      <td>6.691347e+01</td>\n",
       "    </tr>\n",
       "    <tr>\n",
       "      <th>9999</th>\n",
       "      <td>3456</td>\n",
       "      <td>-4.569363</td>\n",
       "      <td>0.809121</td>\n",
       "      <td>100</td>\n",
       "      <td>1.499616</td>\n",
       "      <td>6.668374e+01</td>\n",
       "    </tr>\n",
       "  </tbody>\n",
       "</table>\n",
       "<p>10000 rows × 6 columns</p>\n",
       "</div>"
      ],
      "text/plain": [
       "        id  x_coordinate  y_coordinate  money  time (hr)    profitable\n",
       "0     3613     -1.950527     -1.495858  54400   0.000186  2.929603e+08\n",
       "1     9546     -1.810721     -0.795421  75100   0.000788  9.530556e+07\n",
       "2     3803      3.867586      0.918332  18500   0.000358  5.169381e+07\n",
       "3     6528     -0.282937      3.224334  33900   0.000769  4.407762e+07\n",
       "4     9583      3.393835     -2.790830  24000   0.001131  2.121396e+07\n",
       "...    ...           ...           ...    ...        ...           ...\n",
       "9995  1838     -2.179862     -3.064824    100   1.486872  6.725528e+01\n",
       "9996  8832      1.934915     -4.278272    100   1.490015  6.711343e+01\n",
       "9997  4764      0.565196      1.437413    100   1.491462  6.704829e+01\n",
       "9998  2123     -3.105083     -1.135305    100   1.494467  6.691347e+01\n",
       "9999  3456     -4.569363      0.809121    100   1.499616  6.668374e+01\n",
       "\n",
       "[10000 rows x 6 columns]"
      ]
     },
     "execution_count": 3,
     "metadata": {},
     "output_type": "execute_result"
    }
   ],
   "source": [
    "df['profitable'] = (df['money'] / df['time (hr)'])\n",
    "df.sort_values(by='profitable', ascending = False, inplace=True)\n",
    "df = df.reset_index(drop=True)\n",
    "df"
   ]
  },
  {
   "cell_type": "code",
   "execution_count": 4,
   "id": "13f6ecf1",
   "metadata": {
    "scrolled": true
   },
   "outputs": [
    {
     "data": {
      "image/png": "[encoded data removed]",
      "text/plain": [
       "<Figure size 640x480 with 1 Axes>"
      ]
     },
     "metadata": {},
     "output_type": "display_data"
    }
   ],
   "source": [
    "to_be_plot = df.head(128) #when it was verified in OPTION 1 (below) that 128 banks were rob, then I update my \"head\" to \"128\"\n",
    "plt.scatter(to_be_plot['x_coordinate'], to_be_plot['y_coordinate'])\n",
    "\n",
    "plt.xlabel('X Coordinate')\n",
    "plt.ylabel('Y Coordinate')\n",
    "plt.title('Banks')\n",
    "\n",
    "plt.scatter(0, 0, color='green', marker='X', label='Escape Zone')\n",
    "plt.legend()\n",
    "\n",
    "plt.show()"
   ]
  },
  {
   "cell_type": "code",
   "execution_count": 10,
   "id": "51f83207",
   "metadata": {},
   "outputs": [
    {
     "data": {
      "text/html": [
       "<div>\n",
       "<style scoped>\n",
       "    .dataframe tbody tr th:only-of-type {\n",
       "        vertical-align: middle;\n",
       "    }\n",
       "\n",
       "    .dataframe tbody tr th {\n",
       "        vertical-align: top;\n",
       "    }\n",
       "\n",
       "    .dataframe thead th {\n",
       "        text-align: right;\n",
       "    }\n",
       "</style>\n",
       "<table border=\"1\" class=\"dataframe\">\n",
       "  <thead>\n",
       "    <tr style=\"text-align: right;\">\n",
       "      <th></th>\n",
       "      <th>id</th>\n",
       "      <th>x_coordinate</th>\n",
       "      <th>y_coordinate</th>\n",
       "      <th>money</th>\n",
       "      <th>time (hr)</th>\n",
       "      <th>profitable</th>\n",
       "    </tr>\n",
       "  </thead>\n",
       "  <tbody>\n",
       "    <tr>\n",
       "      <th>0</th>\n",
       "      <td>3613</td>\n",
       "      <td>-1.950527</td>\n",
       "      <td>-1.495858</td>\n",
       "      <td>54400</td>\n",
       "      <td>0.000186</td>\n",
       "      <td>2.929603e+08</td>\n",
       "    </tr>\n",
       "    <tr>\n",
       "      <th>1</th>\n",
       "      <td>9546</td>\n",
       "      <td>-1.810721</td>\n",
       "      <td>-0.795421</td>\n",
       "      <td>75100</td>\n",
       "      <td>0.000788</td>\n",
       "      <td>9.530556e+07</td>\n",
       "    </tr>\n",
       "    <tr>\n",
       "      <th>2</th>\n",
       "      <td>3803</td>\n",
       "      <td>3.867586</td>\n",
       "      <td>0.918332</td>\n",
       "      <td>18500</td>\n",
       "      <td>0.000358</td>\n",
       "      <td>5.169381e+07</td>\n",
       "    </tr>\n",
       "    <tr>\n",
       "      <th>3</th>\n",
       "      <td>6528</td>\n",
       "      <td>-0.282937</td>\n",
       "      <td>3.224334</td>\n",
       "      <td>33900</td>\n",
       "      <td>0.000769</td>\n",
       "      <td>4.407762e+07</td>\n",
       "    </tr>\n",
       "    <tr>\n",
       "      <th>4</th>\n",
       "      <td>9583</td>\n",
       "      <td>3.393835</td>\n",
       "      <td>-2.790830</td>\n",
       "      <td>24000</td>\n",
       "      <td>0.001131</td>\n",
       "      <td>2.121396e+07</td>\n",
       "    </tr>\n",
       "    <tr>\n",
       "      <th>...</th>\n",
       "      <td>...</td>\n",
       "      <td>...</td>\n",
       "      <td>...</td>\n",
       "      <td>...</td>\n",
       "      <td>...</td>\n",
       "      <td>...</td>\n",
       "    </tr>\n",
       "    <tr>\n",
       "      <th>9995</th>\n",
       "      <td>1838</td>\n",
       "      <td>-2.179862</td>\n",
       "      <td>-3.064824</td>\n",
       "      <td>100</td>\n",
       "      <td>1.486872</td>\n",
       "      <td>6.725528e+01</td>\n",
       "    </tr>\n",
       "    <tr>\n",
       "      <th>9996</th>\n",
       "      <td>8832</td>\n",
       "      <td>1.934915</td>\n",
       "      <td>-4.278272</td>\n",
       "      <td>100</td>\n",
       "      <td>1.490015</td>\n",
       "      <td>6.711343e+01</td>\n",
       "    </tr>\n",
       "    <tr>\n",
       "      <th>9997</th>\n",
       "      <td>4764</td>\n",
       "      <td>0.565196</td>\n",
       "      <td>1.437413</td>\n",
       "      <td>100</td>\n",
       "      <td>1.491462</td>\n",
       "      <td>6.704829e+01</td>\n",
       "    </tr>\n",
       "    <tr>\n",
       "      <th>9998</th>\n",
       "      <td>2123</td>\n",
       "      <td>-3.105083</td>\n",
       "      <td>-1.135305</td>\n",
       "      <td>100</td>\n",
       "      <td>1.494467</td>\n",
       "      <td>6.691347e+01</td>\n",
       "    </tr>\n",
       "    <tr>\n",
       "      <th>9999</th>\n",
       "      <td>3456</td>\n",
       "      <td>-4.569363</td>\n",
       "      <td>0.809121</td>\n",
       "      <td>100</td>\n",
       "      <td>1.499616</td>\n",
       "      <td>6.668374e+01</td>\n",
       "    </tr>\n",
       "  </tbody>\n",
       "</table>\n",
       "<p>10000 rows × 6 columns</p>\n",
       "</div>"
      ],
      "text/plain": [
       "        id  x_coordinate  y_coordinate  money  time (hr)    profitable\n",
       "0     3613     -1.950527     -1.495858  54400   0.000186  2.929603e+08\n",
       "1     9546     -1.810721     -0.795421  75100   0.000788  9.530556e+07\n",
       "2     3803      3.867586      0.918332  18500   0.000358  5.169381e+07\n",
       "3     6528     -0.282937      3.224334  33900   0.000769  4.407762e+07\n",
       "4     9583      3.393835     -2.790830  24000   0.001131  2.121396e+07\n",
       "...    ...           ...           ...    ...        ...           ...\n",
       "9995  1838     -2.179862     -3.064824    100   1.486872  6.725528e+01\n",
       "9996  8832      1.934915     -4.278272    100   1.490015  6.711343e+01\n",
       "9997  4764      0.565196      1.437413    100   1.491462  6.704829e+01\n",
       "9998  2123     -3.105083     -1.135305    100   1.494467  6.691347e+01\n",
       "9999  3456     -4.569363      0.809121    100   1.499616  6.668374e+01\n",
       "\n",
       "[10000 rows x 6 columns]"
      ]
     },
     "execution_count": 10,
     "metadata": {},
     "output_type": "execute_result"
    }
   ],
   "source": [
    "df"
   ]
  },
  {
   "cell_type": "markdown",
   "id": "fd9cb3ac",
   "metadata": {},
   "source": [
    "## Robbering banks by Profit"
   ]
  },
  {
   "cell_type": "code",
   "execution_count": 11,
   "id": "e6a5190b",
   "metadata": {
    "scrolled": false
   },
   "outputs": [
    {
     "name": "stdout",
     "output_type": "stream",
     "text": [
      "--> time = 0.08212161382580292 3613.0 0.0001856906781643 0.08193592314763862\n",
      "--> time = 0.10671803190985622 9546.0 0.0007879918265028 0.0238084262575505\n",
      "--> time = 0.3047853472332805 3803.0 0.0003578765375668 0.19770943878585745\n",
      "--> time = 0.46382455583978743 6528.0 0.0007690978284647 0.15827011077804226\n",
      "--> time = 0.6999520037475283 9583.0 0.0011313304321841 0.23499611747555676\n",
      "--> time = 0.8529404889055698 5933.0 0.0049220478919271 0.14806643726611438\n",
      "--> time = 1.0814473461599259 9195.0 0.0018311123131364 0.22667574494121964\n",
      "--> time = 1.2968171597663898 4757.0 0.0015437874594811 0.21382602614698282\n",
      "--> time = 1.3585691243225129 8550.0 0.0003604376574103 0.06139152689871268\n",
      "--> time = 1.4442624738749468 4499.0 0.0042975494319462 0.08139580012048774\n",
      "--> time = 1.7485970991324808 9241.0 0.0077745434983739 0.2965600817591602\n",
      "--> time = 2.059594831122949 7343.0 0.0021629945887121 0.30883473740175604\n",
      "--> time = 2.2886684062336418 3798.0 0.0043175480126298 0.22475602709806325\n",
      "--> time = 2.372169861712846 7544.0 0.0084269629822842 0.07507449249692005\n",
      "--> time = 2.6807369955923854 4762.0 0.0067192045018129 0.30184792937772653\n",
      "--> time = 2.8752269558140116 8436.0 0.0053217429738323 0.18916821724779373\n",
      "--> time = 3.0305725935010415 8562.0 0.008579189339237 0.14676644834779304\n",
      "--> time = 3.174398791124776 6097.0 0.008089492918343 0.13573670470539137\n",
      "--> time = 3.357544698625382 487.0 0.0092440608398379 0.17390184666076783\n",
      "--> time = 3.6651997084255252 2928.0 0.0041329106135837 0.30352209918655987\n",
      "--> time = 3.835548283566339 5135.0 0.0094755350740458 0.1608730400667681\n",
      "--> time = 3.9785233993295694 865.0 0.0068168581775914 0.13615825758563901\n",
      "--> time = 4.082027242905093 3914.0 0.0035764013450454 0.09992744223047775\n",
      "--> time = 4.2118408889294905 4987.0 0.0024472972999689 0.1273663487244287\n",
      "--> time = 4.458963391234554 3466.0 0.0088556268188034 0.23826687548626005\n",
      "--> time = 4.556425351228964 7560.0 0.0126374891621046 0.08482447083230528\n",
      "--> time = 4.600517715299488 8579.0 3.157142300608262e-05 0.04406079264751804\n",
      "--> time = 4.744313996867683 8690.0 0.0091941496438854 0.1346021319243095\n",
      "--> time = 5.044493608205898 8469.0 0.0157764387872935 0.28440317255092223\n",
      "--> time = 5.202270801596921 433.0 0.0160176062424833 0.14175958714853923\n",
      "--> time = 5.388969256143279 524.0 0.0078683460085787 0.17883010853777975\n",
      "--> time = 5.651022643508132 6468.0 0.0152590532746231 0.24679433409022958\n",
      "--> time = 5.685094773700367 1914.0 0.0037128898139999 0.030359240378234526\n",
      "--> time = 5.89516600742885 1757.0 0.0141662666599594 0.19590496706852323\n",
      "--> time = 6.022166007810204 8287.0 0.0221786452808607 0.10482135510049351\n",
      "--> time = 6.091062516346152 7258.0 0.013393040139584 0.0555034683963628\n",
      "--> time = 6.261884558514989 4725.0 0.0019362066826901 0.16888583548614758\n",
      "--> time = 6.318092317131397 8206.0 0.0097089243542 0.046498834262207606\n",
      "--> time = 6.603491800329937 4605.0 0.0111347034574872 0.2742647797410535\n",
      "--> time = 6.7142510885121025 7064.0 0.0249849354368431 0.08577435274532214\n",
      "--> time = 6.861167852066504 3926.0 5.694616602736069e-05 0.14685981738837353\n",
      "--> time = 7.131421514762876 9401.0 0.0074964921658866 0.26275717053048636\n",
      "--> time = 7.193296130459942 9736.0 0.0165640472846178 0.0453105684124477\n",
      "--> time = 7.517544619819126 2331.0 0.0186196313455977 0.30562885801358686\n",
      "--> time = 7.6389765653019825 9653.0 0.024614899292698 0.09681704619015888\n",
      "--> time = 7.785591903689374 7074.0 0.0200161667689653 0.12659917161842651\n",
      "--> time = 8.04082137642562 2346.0 0.0276820738939052 0.22754739884234207\n",
      "--> time = 8.118031272260339 8966.0 0.013463576885077 0.06374631894964086\n",
      "--> time = 8.399960771445077 4696.0 0.0306237061272561 0.25130579305748235\n",
      "--> time = 8.644594473218163 8022.0 0.0112815454055719 0.23335215636751389\n",
      "--> time = 8.903247494143956 4789.0 0.0364891692683932 0.22216385165739944\n",
      "--> time = 8.982814504081038 6740.0 0.0239627774474492 0.055604232489631686\n",
      "--> time = 9.206465322368064 9881.0 0.0162206902177068 0.2074301280693192\n",
      "--> time = 9.31457227845989 70.0 0.007217957438921 0.1008889986529043\n",
      "--> time = 9.496091860031864 2656.0 0.0103019648239555 0.17121761674801922\n",
      "--> time = 9.601425089778095 951.0 0.0205795515122844 0.08475367823394694\n",
      "--> time = 9.630604270421774 209.0 0.0017917723294166 0.02738740831426295\n",
      "--> time = 9.683326731968055 58.0 0.0134370230068696 0.039285438539411334\n",
      "--> time = 9.847117525104027 9228.0 0.0174829747416472 0.14630781839432505\n",
      "--> time = 10.106288821942526 3193.0 0.03995948230486 0.21921181453363833\n",
      "--> time = 10.188724991244763 8525.0 0.0439272394467726 0.03850892985546415\n",
      "--> time = 10.417187891860674 5610.0 0.0354923185093152 0.19297058210659662\n",
      "--> time = 10.696296689254655 2037.0 0.0177902392903939 0.2613185581035878\n",
      "--> time = 10.910720689087853 4287.0 0.0364658433957821 0.17795815643741525\n",
      "--> time = 11.199676658169434 6022.0 0.0064822153955691 0.2824737536860124\n",
      "--> time = 11.477689153121222 2827.0 0.0068397656465272 0.27117272930526026\n",
      "--> time = 11.595506327080074 8849.0 0.0136902926566671 0.10412688130218341\n",
      "--> time = 11.85533301430344 9378.0 0.0484423539166012 0.21138433330676565\n",
      "--> time = 12.065022637066452 6104.0 0.0476075121459473 0.1620821106170643\n",
      "--> time = 12.293305972422111 2741.0 0.0089116309909868 0.2193717043646724\n",
      "--> time = 12.570163869778492 7701.0 0.0264452046345235 0.2504126927218578\n",
      "--> time = 12.711723932869413 8355.0 0.0268615030275078 0.11469856006341254\n",
      "--> time = 12.914638960243629 5563.0 0.0182543545042733 0.1846606728699426\n",
      "--> time = 12.996519092661144 3005.0 0.0294139554316901 0.05246617698582437\n",
      "--> time = 13.152134681674385 7665.0 0.0522147172405543 0.10340087177268625\n",
      "--> time = 13.44324595759917 6987.0 0.0089839728160525 0.28212730310873285\n",
      "--> time = 13.58557412603505 5719.0 0.0208859766327529 0.12144219180312735\n",
      "--> time = 13.779935982897149 2729.0 0.0223352996147437 0.17202655724735424\n",
      "--> time = 13.928008528815294 1997.0 0.0085558925468481 0.13951665337129704\n",
      "--> time = 14.082558542456953 8286.0 0.0041175681543681 0.1504324454872905\n",
      "--> time = 14.418791380141183 4906.0 0.0495628548154579 0.28666998286877315\n",
      "--> time = 14.581896149322008 613.0 0.0267496160456077 0.13635515313521632\n",
      "--> time = 14.740517281585525 790.0 0.0057699907600105 0.15285114150350632\n",
      "--> time = 15.049798120865368 7087.0 0.0613656877195981 0.2479151515602447\n",
      "--> time = 15.183852710961192 5126.0 0.0369620129044915 0.09709257719133174\n",
      "--> time = 15.314658799797815 5562.0 0.0338309292032206 0.09697515963340178\n",
      "--> time = 15.383300538613748 3516.0 0.0537847290088815 0.014857009807050073\n",
      "--> time = 15.568723716154933 2243.0 0.0248832286613037 0.16053994887988254\n",
      "--> time = 15.64446899371597 6759.0 0.0234012648063484 0.05234401275468788\n",
      "--> time = 15.814901837561512 3026.0 0.0657648169613146 0.1046680268842279\n",
      "--> time = 16.051664011894108 1372.0 0.0706643614337767 0.16609781289881684\n",
      "--> time = 16.25380939593925 2442.0 0.0007346104501586 0.2014107735949836\n",
      "--> time = 16.413610324388927 1733.0 0.0008837816487937 0.15891714680088226\n",
      "--> time = 16.54930335562677 8375.0 0.0260923096454456 0.10960072159239502\n",
      "--> time = 16.781833521527027 7764.0 0.0345515728402617 0.19797859305999424\n",
      "--> time = 16.839049550783756 7649.0 0.0207826997183069 0.03643332953842152\n",
      "--> time = 17.029676312054793 7689.0 0.0692264944944087 0.12140026677662771\n",
      "--> time = 17.299581215239414 9880.0 0.032338235316468 0.23756666786815153\n",
      "--> time = 17.58216590477824 3297.0 0.0616247355918561 0.2209599539469716\n",
      "--> time = 17.71851190410888 4794.0 0.0177663197525717 0.11857967957806884\n",
      "--> time = 17.804200526002585 3089.0 0.0156957290140646 0.06999289287964115\n",
      "--> time = 17.925468796116633 7583.0 0.0699286849876731 0.05133958512637557\n",
      "--> time = 17.9843525745102 5725.0 0.0004014855358864 0.05848229285768187\n",
      "--> time = 18.270224692106343 517.0 0.0602788760605368 0.22559324153560667\n",
      "--> time = 18.363894154010524 4345.0 0.011192028351613 0.08247743355256808\n",
      "--> time = 18.63646830765919 2521.0 0.0295043243915362 0.2430698292571286\n",
      "--> time = 18.95274233008021 2190.0 0.0485225238105669 0.26775149861045133\n",
      "--> time = 19.121651961791734 5155.0 0.0826610369857169 0.0862485947258081\n",
      "--> time = 19.24949767943224 9049.0 0.0661080664839819 0.061737651156522674\n",
      "--> time = 19.548503770706837 444.0 0.0460116994136294 0.2529943918609678\n",
      "--> time = 19.680680406970616 6712.0 0.0308580818163375 0.10131855444744245\n",
      "--> time = 19.9243114453929 8908.0 0.0234791615367626 0.2201518768855196\n",
      "--> time = 20.151576769558318 8703.0 0.0467084337346093 0.18055689043081138\n",
      "--> time = 20.36625982423062 7877.0 0.0342000057211452 0.18048304895115902\n",
      "--> time = 20.649310824163 7595.0 0.058446467457432 0.22460453247494577\n",
      "--> time = 20.848931720884316 8231.0 0.0545936410145604 0.14502725570675506\n",
      "--> time = 21.043288351205675 9275.0 0.0277482331957495 0.16660839712561\n",
      "--> time = 21.09726427614117 4465.0 0.001859862506129 0.05211606242936761\n",
      "--> time = 21.489751510817612 5295.0 0.0578262856746881 0.33466094900175436\n",
      "--> time = 21.915894421695857 5296.0 0.08393024310864 0.34221266776960557\n",
      "--> time = 22.325265997297965 299.0 0.0565379265607287 0.3528336490413789\n",
      "--> time = 22.666586894401913 8846.0 0.0371931191334185 0.3041277779705283\n",
      "--> time = 22.898543157168092 6254.0 0.0516315430452477 0.180324719720932\n",
      "--> time = 23.052663805776362 507.0 0.0171281843191493 0.13699246428912065\n",
      "--> time = 23.175008075170098 6535.0 0.0912008172732894 0.03114345212044584\n",
      "--> time = 23.486040492266632 6216.0 0.0640970591675297 0.2469353579290045\n",
      "--> time = 23.656832884611095 279.0 0.0241342509848445 0.1466581413596197\n",
      "--> time = 23.889657960596278 5166.0 0.0629637923844056 0.16986128360077626\n",
      "--> time = 23.942467946354846 232.0 0.020418357706062 0.03239162805250496\n",
      "--> time = 23.996329199154303 9448.0 0.0382627640534619 0.015598488745995195\n"
     ]
    },
    {
     "name": "stdout",
     "output_type": "stream",
     "text": [
      "Total stolen: 6467300.00 in 24.00 hours\n",
      "[9448, 232, 5166, 279, 6216, 6535, 507, 6254, 8846, 299, 5296, 5295, 4465, 9275, 8231, 7595, 7877, 8703, 8908, 6712, 444, 9049, 5155, 2190, 2521, 4345, 517, 5725, 7583, 3089, 4794, 3297, 9880, 7689, 7649, 7764, 8375, 1733, 2442, 1372, 3026, 6759, 2243, 3516, 5562, 5126, 7087, 790, 613, 4906, 8286, 1997, 2729, 5719, 6987, 7665, 3005, 5563, 8355, 7701, 2741, 6104, 9378, 8849, 2827, 6022, 4287, 2037, 5610, 8525, 3193, 9228, 58, 209, 951, 2656, 70, 9881, 6740, 4789, 8022, 4696, 8966, 2346, 7074, 9653, 2331, 9736, 9401, 3926, 7064, 4605, 8206, 4725, 7258, 8287, 1757, 1914, 6468, 524, 433, 8469, 8690, 8579, 7560, 3466, 4987, 3914, 865, 5135, 2928, 487, 6097, 8562, 8436, 4762, 7544, 3798, 7343, 9241, 4499, 8550, 4757, 9195, 5933, 9583, 6528, 3803, 9546, 3613]\n"
     ]
    }
   ],
   "source": [
    "start_time = tm.time()\n",
    "\n",
    "list_banks = []\n",
    "total_stolen_amount = 0\n",
    "time = 0\n",
    "current_x, current_y = 0.0, 0.0\n",
    "\n",
    "for index, row in df.iterrows():\n",
    "        distance = math.sqrt((row['x_coordinate'] - current_x)**2 + (row['y_coordinate'] - current_y)**2)\n",
    "        travel_time = distance / 30\n",
    "        rob_time = row['time (hr)']\n",
    "        if time + travel_time + rob_time <= 24:\n",
    "                total_stolen_amount += row['money']\n",
    "                list_banks.append(int(row['id']))\n",
    "                time += rob_time + travel_time\n",
    "                current_x, current_y = row['x_coordinate'], row['y_coordinate']\n",
    "                print(f\"--> time = {time} {row['id']} {rob_time} {travel_time}\")\n",
    "\n",
    "list_banks.reverse()\n",
    "\n",
    "\n",
    "print(f'Total stolen: {total_stolen_amount:.2f} in {time:.2f} hours')\n",
    "print(list_banks)\n",
    "\n",
    "end_time = tm.time()"
   ]
  },
  {
   "cell_type": "code",
   "execution_count": 12,
   "id": "a5c44e75",
   "metadata": {},
   "outputs": [
    {
     "data": {
      "text/html": [
       "<div>\n",
       "<style scoped>\n",
       "    .dataframe tbody tr th:only-of-type {\n",
       "        vertical-align: middle;\n",
       "    }\n",
       "\n",
       "    .dataframe tbody tr th {\n",
       "        vertical-align: top;\n",
       "    }\n",
       "\n",
       "    .dataframe thead th {\n",
       "        text-align: right;\n",
       "    }\n",
       "</style>\n",
       "<table border=\"1\" class=\"dataframe\">\n",
       "  <thead>\n",
       "    <tr style=\"text-align: right;\">\n",
       "      <th></th>\n",
       "      <th>id</th>\n",
       "      <th>x_coordinate</th>\n",
       "      <th>y_coordinate</th>\n",
       "      <th>money</th>\n",
       "      <th>time (hr)</th>\n",
       "      <th>profitable</th>\n",
       "    </tr>\n",
       "  </thead>\n",
       "  <tbody>\n",
       "    <tr>\n",
       "      <th>254</th>\n",
       "      <td>9448</td>\n",
       "      <td>3.847943</td>\n",
       "      <td>-3.626517</td>\n",
       "      <td>17400</td>\n",
       "      <td>0.038263</td>\n",
       "      <td>454750.210301</td>\n",
       "    </tr>\n",
       "  </tbody>\n",
       "</table>\n",
       "</div>"
      ],
      "text/plain": [
       "       id  x_coordinate  y_coordinate  money  time (hr)     profitable\n",
       "254  9448      3.847943     -3.626517  17400   0.038263  454750.210301"
      ]
     },
     "execution_count": 12,
     "metadata": {},
     "output_type": "execute_result"
    }
   ],
   "source": [
    "df.loc[(df['id'] == 9448)]"
   ]
  },
  {
   "cell_type": "code",
   "execution_count": 13,
   "id": "6299043f",
   "metadata": {},
   "outputs": [
    {
     "name": "stdout",
     "output_type": "stream",
     "text": [
      "time = 254    0.038263\n",
      "Name: time (hr), dtype: float64 9448 254    9448\n",
      "Name: id, dtype: int64 254    0.038263\n",
      "Name: time (hr), dtype: float64 0.0\n"
     ]
    },
    {
     "name": "stderr",
     "output_type": "stream",
     "text": [
      "C:\\Users\\teka_\\AppData\\Local\\Temp\\ipykernel_22356\\414226992.py:11: FutureWarning: Calling float on a single element Series is deprecated and will raise a TypeError in the future. Use float(ser.iloc[0]) instead\n",
      "  distance = math.sqrt((row['x_coordinate'] - prev_x)**2 + (row['y_coordinate'] - prev_y)**2)\n"
     ]
    },
    {
     "ename": "TypeError",
     "evalue": "cannot convert the series to <class 'float'>",
     "output_type": "error",
     "traceback": [
      "\u001b[1;31m---------------------------------------------------------------------------\u001b[0m",
      "\u001b[1;31mTypeError\u001b[0m                                 Traceback (most recent call last)",
      "Cell \u001b[1;32mIn[13], line 11\u001b[0m\n\u001b[0;32m      9\u001b[0m \u001b[38;5;66;03m# row = df.loc[e]\u001b[39;00m\n\u001b[0;32m     10\u001b[0m prev_x, prev_y \u001b[38;5;241m=\u001b[39m prev[\u001b[38;5;124m\"\u001b[39m\u001b[38;5;124mx_coordinate\u001b[39m\u001b[38;5;124m\"\u001b[39m], prev[\u001b[38;5;124m\"\u001b[39m\u001b[38;5;124my_coordinate\u001b[39m\u001b[38;5;124m\"\u001b[39m]\n\u001b[1;32m---> 11\u001b[0m distance \u001b[38;5;241m=\u001b[39m math\u001b[38;5;241m.\u001b[39msqrt((row[\u001b[38;5;124m'\u001b[39m\u001b[38;5;124mx_coordinate\u001b[39m\u001b[38;5;124m'\u001b[39m] \u001b[38;5;241m-\u001b[39m prev_x)\u001b[38;5;241m*\u001b[39m\u001b[38;5;241m*\u001b[39m\u001b[38;5;241m2\u001b[39m \u001b[38;5;241m+\u001b[39m (row[\u001b[38;5;124m'\u001b[39m\u001b[38;5;124my_coordinate\u001b[39m\u001b[38;5;124m'\u001b[39m] \u001b[38;5;241m-\u001b[39m prev_y)\u001b[38;5;241m*\u001b[39m\u001b[38;5;241m*\u001b[39m\u001b[38;5;241m2\u001b[39m)\n\u001b[0;32m     12\u001b[0m time_total \u001b[38;5;241m+\u001b[39m\u001b[38;5;241m=\u001b[39m row[\u001b[38;5;124m'\u001b[39m\u001b[38;5;124mtime (hr)\u001b[39m\u001b[38;5;124m'\u001b[39m] \u001b[38;5;241m+\u001b[39m distance \u001b[38;5;241m/\u001b[39m \u001b[38;5;241m30\u001b[39m\n\u001b[0;32m     13\u001b[0m prev \u001b[38;5;241m=\u001b[39m row\n",
      "File \u001b[1;32m~\\anaconda3\\Lib\\site-packages\\pandas\\core\\series.py:230\u001b[0m, in \u001b[0;36m_coerce_method.<locals>.wrapper\u001b[1;34m(self)\u001b[0m\n\u001b[0;32m    222\u001b[0m     warnings\u001b[38;5;241m.\u001b[39mwarn(\n\u001b[0;32m    223\u001b[0m         \u001b[38;5;124mf\u001b[39m\u001b[38;5;124m\"\u001b[39m\u001b[38;5;124mCalling \u001b[39m\u001b[38;5;132;01m{\u001b[39;00mconverter\u001b[38;5;241m.\u001b[39m\u001b[38;5;18m__name__\u001b[39m\u001b[38;5;132;01m}\u001b[39;00m\u001b[38;5;124m on a single element Series is \u001b[39m\u001b[38;5;124m\"\u001b[39m\n\u001b[0;32m    224\u001b[0m         \u001b[38;5;124m\"\u001b[39m\u001b[38;5;124mdeprecated and will raise a TypeError in the future. \u001b[39m\u001b[38;5;124m\"\u001b[39m\n\u001b[1;32m   (...)\u001b[0m\n\u001b[0;32m    227\u001b[0m         stacklevel\u001b[38;5;241m=\u001b[39mfind_stack_level(),\n\u001b[0;32m    228\u001b[0m     )\n\u001b[0;32m    229\u001b[0m     \u001b[38;5;28;01mreturn\u001b[39;00m converter(\u001b[38;5;28mself\u001b[39m\u001b[38;5;241m.\u001b[39miloc[\u001b[38;5;241m0\u001b[39m])\n\u001b[1;32m--> 230\u001b[0m \u001b[38;5;28;01mraise\u001b[39;00m \u001b[38;5;167;01mTypeError\u001b[39;00m(\u001b[38;5;124mf\u001b[39m\u001b[38;5;124m\"\u001b[39m\u001b[38;5;124mcannot convert the series to \u001b[39m\u001b[38;5;132;01m{\u001b[39;00mconverter\u001b[38;5;132;01m}\u001b[39;00m\u001b[38;5;124m\"\u001b[39m)\n",
      "\u001b[1;31mTypeError\u001b[0m: cannot convert the series to <class 'float'>"
     ]
    }
   ],
   "source": [
    "time_total = 0\n",
    "prev = df.loc[(df['id'] == list_banks[0])]\n",
    "for e in list_banks:\n",
    "    row = df.loc[(df['id'] == e)]#changed from \"iloc\" to \"loc\" and now its verifies my last bank ID (9448)\n",
    "    assert row is not None, (\n",
    "        f\"Used more than 24h! Time left: {t_remaining}\"\n",
    "    )\n",
    "       \n",
    "    # row = df.loc[e]\n",
    "    prev_x, prev_y = prev[\"x_coordinate\"], prev[\"y_coordinate\"]\n",
    "    distance = math.sqrt((row['x_coordinate'] - prev_x)**2 + (row['y_coordinate'] - prev_y)**2)\n",
    "    time_total += row['time (hr)'] + distance / 30\n",
    "    prev = row\n",
    "    print(f\"time = {time_total} {e} {row['id']} {row['time (hr)']} {distance / 30}\")\n",
    "    \n",
    "\n"
   ]
  },
  {
   "cell_type": "code",
   "execution_count": 14,
   "id": "f087d086",
   "metadata": {},
   "outputs": [
    {
     "name": "stdout",
     "output_type": "stream",
     "text": [
      "time remaining -96.19773381431776\n"
     ]
    },
    {
     "ename": "AssertionError",
     "evalue": "Used more than 24h! Time left: -96.19773381431776",
     "output_type": "error",
     "traceback": [
      "\u001b[1;31m---------------------------------------------------------------------------\u001b[0m",
      "\u001b[1;31mAssertionError\u001b[0m                            Traceback (most recent call last)",
      "Cell \u001b[1;32mIn[14], line 2\u001b[0m\n\u001b[0;32m      1\u001b[0m \u001b[38;5;28;01mfrom\u001b[39;00m \u001b[38;5;21;01mcheck_solution\u001b[39;00m \u001b[38;5;28;01mimport\u001b[39;00m distance, check_solution\n\u001b[1;32m----> 2\u001b[0m check_solution(list_banks, df)\n",
      "File \u001b[1;32m~\\DATA SCIENCE\\Concordia-Bootcamps\\Module - 3\\ds-algorithm-project-1-main\\check_solution.py:40\u001b[0m, in \u001b[0;36mcheck_solution\u001b[1;34m(travel_list, df, speed)\u001b[0m\n\u001b[0;32m     38\u001b[0m     prev \u001b[38;5;241m=\u001b[39m e\n\u001b[0;32m     39\u001b[0m \u001b[38;5;28mprint\u001b[39m(\u001b[38;5;124mf\u001b[39m\u001b[38;5;124m\"\u001b[39m\u001b[38;5;124mtime remaining \u001b[39m\u001b[38;5;132;01m{\u001b[39;00mt_remaining\u001b[38;5;132;01m}\u001b[39;00m\u001b[38;5;124m\"\u001b[39m)\n\u001b[1;32m---> 40\u001b[0m \u001b[38;5;28;01massert\u001b[39;00m t_remaining \u001b[38;5;241m>\u001b[39m\u001b[38;5;241m=\u001b[39m \u001b[38;5;241m0\u001b[39m, (\n\u001b[0;32m     41\u001b[0m     \u001b[38;5;124mf\u001b[39m\u001b[38;5;124m\"\u001b[39m\u001b[38;5;124mUsed more than 24h! Time left: \u001b[39m\u001b[38;5;132;01m{\u001b[39;00mt_remaining\u001b[38;5;132;01m}\u001b[39;00m\u001b[38;5;124m\"\u001b[39m\n\u001b[0;32m     42\u001b[0m )\n\u001b[0;32m     43\u001b[0m \u001b[38;5;66;03m# still gotta get to (0, 0)\u001b[39;00m\n\u001b[0;32m     44\u001b[0m dist \u001b[38;5;241m=\u001b[39m distance(row[\u001b[38;5;124m'\u001b[39m\u001b[38;5;124mx_coordinate\u001b[39m\u001b[38;5;124m'\u001b[39m],row[\u001b[38;5;124m'\u001b[39m\u001b[38;5;124my_coordinate\u001b[39m\u001b[38;5;124m'\u001b[39m],\u001b[38;5;241m0\u001b[39m,\u001b[38;5;241m0\u001b[39m)\n",
      "\u001b[1;31mAssertionError\u001b[0m: Used more than 24h! Time left: -96.19773381431776"
     ]
    }
   ],
   "source": [
    "from check_solution import distance, check_solution\n",
    "check_solution(list_banks, df)"
   ]
  },
  {
   "cell_type": "code",
   "execution_count": 15,
   "id": "902c343d",
   "metadata": {},
   "outputs": [
    {
     "data": {
      "text/plain": [
       "130"
      ]
     },
     "execution_count": 15,
     "metadata": {},
     "output_type": "execute_result"
    }
   ],
   "source": [
    "number_of_banks = len(list_banks)\n",
    "number_of_banks"
   ]
  },
  {
   "cell_type": "markdown",
   "id": "3ba2022c",
   "metadata": {},
   "source": [
    "## Step 4: Solution \n",
    "\n",
    "Your solution must provide:\n",
    "\n",
    "- A list of bank IDs in order that you rob them\n",
    "- Total amount you were able to rob\n",
    "- Time it took to rob + escape\n",
    "- The execution time for your code to run\n",
    "\n",
    "**Important: Your solution must respect all the constraints mentioned in the description.**\n",
    "\n",
    "Feel free to add additional cells, and remove the ones you don't use."
   ]
  },
  {
   "cell_type": "code",
   "execution_count": 16,
   "id": "5990fe27",
   "metadata": {
    "collapsed": true
   },
   "outputs": [
    {
     "data": {
      "text/plain": [
       "[9448,\n",
       " 232,\n",
       " 5166,\n",
       " 279,\n",
       " 6216,\n",
       " 6535,\n",
       " 507,\n",
       " 6254,\n",
       " 8846,\n",
       " 299,\n",
       " 5296,\n",
       " 5295,\n",
       " 4465,\n",
       " 9275,\n",
       " 8231,\n",
       " 7595,\n",
       " 7877,\n",
       " 8703,\n",
       " 8908,\n",
       " 6712,\n",
       " 444,\n",
       " 9049,\n",
       " 5155,\n",
       " 2190,\n",
       " 2521,\n",
       " 4345,\n",
       " 517,\n",
       " 5725,\n",
       " 7583,\n",
       " 3089,\n",
       " 4794,\n",
       " 3297,\n",
       " 9880,\n",
       " 7689,\n",
       " 7649,\n",
       " 7764,\n",
       " 8375,\n",
       " 1733,\n",
       " 2442,\n",
       " 1372,\n",
       " 3026,\n",
       " 6759,\n",
       " 2243,\n",
       " 3516,\n",
       " 5562,\n",
       " 5126,\n",
       " 7087,\n",
       " 790,\n",
       " 613,\n",
       " 4906,\n",
       " 8286,\n",
       " 1997,\n",
       " 2729,\n",
       " 5719,\n",
       " 6987,\n",
       " 7665,\n",
       " 3005,\n",
       " 5563,\n",
       " 8355,\n",
       " 7701,\n",
       " 2741,\n",
       " 6104,\n",
       " 9378,\n",
       " 8849,\n",
       " 2827,\n",
       " 6022,\n",
       " 4287,\n",
       " 2037,\n",
       " 5610,\n",
       " 8525,\n",
       " 3193,\n",
       " 9228,\n",
       " 58,\n",
       " 209,\n",
       " 951,\n",
       " 2656,\n",
       " 70,\n",
       " 9881,\n",
       " 6740,\n",
       " 4789,\n",
       " 8022,\n",
       " 4696,\n",
       " 8966,\n",
       " 2346,\n",
       " 7074,\n",
       " 9653,\n",
       " 2331,\n",
       " 9736,\n",
       " 9401,\n",
       " 3926,\n",
       " 7064,\n",
       " 4605,\n",
       " 8206,\n",
       " 4725,\n",
       " 7258,\n",
       " 8287,\n",
       " 1757,\n",
       " 1914,\n",
       " 6468,\n",
       " 524,\n",
       " 433,\n",
       " 8469,\n",
       " 8690,\n",
       " 8579,\n",
       " 7560,\n",
       " 3466,\n",
       " 4987,\n",
       " 3914,\n",
       " 865,\n",
       " 5135,\n",
       " 2928,\n",
       " 487,\n",
       " 6097,\n",
       " 8562,\n",
       " 8436,\n",
       " 4762,\n",
       " 7544,\n",
       " 3798,\n",
       " 7343,\n",
       " 9241,\n",
       " 4499,\n",
       " 8550,\n",
       " 4757,\n",
       " 9195,\n",
       " 5933,\n",
       " 9583,\n",
       " 6528,\n",
       " 3803,\n",
       " 9546,\n",
       " 3613]"
      ]
     },
     "execution_count": 16,
     "metadata": {},
     "output_type": "execute_result"
    }
   ],
   "source": [
    "#A list of bank IDs in order that you rob them\n",
    "list_banks"
   ]
  },
  {
   "cell_type": "code",
   "execution_count": 17,
   "id": "303ba12f",
   "metadata": {},
   "outputs": [
    {
     "data": {
      "text/plain": [
       "6467300.0"
      ]
     },
     "execution_count": 17,
     "metadata": {},
     "output_type": "execute_result"
    }
   ],
   "source": [
    "#Total amount you were able to rob\n",
    "total_stolen_amount"
   ]
  },
  {
   "cell_type": "code",
   "execution_count": 18,
   "id": "8d414713",
   "metadata": {},
   "outputs": [
    {
     "data": {
      "text/plain": [
       "23.996329199154303"
      ]
     },
     "execution_count": 18,
     "metadata": {},
     "output_type": "execute_result"
    }
   ],
   "source": [
    "#Time it took to rob + escape\n",
    "time"
   ]
  },
  {
   "cell_type": "code",
   "execution_count": 19,
   "id": "acad84c3",
   "metadata": {},
   "outputs": [
    {
     "data": {
      "text/plain": [
       "0.3546602725982666"
      ]
     },
     "execution_count": 19,
     "metadata": {},
     "output_type": "execute_result"
    }
   ],
   "source": [
    "#The execution time for your code to run\n",
    "execution_time = end_time - start_time\n",
    "execution_time"
   ]
  },
  {
   "cell_type": "markdown",
   "id": "c74e14fe",
   "metadata": {},
   "source": [
    "### Briefly explain your solution/approach, and how it works."
   ]
  },
  {
   "cell_type": "markdown",
   "id": "0e3799f5",
   "metadata": {},
   "source": [
    "I created a column with the most profitable (\"df['profitable']\") \n",
    "    \n",
    "        from the index 0 (start point of the df['profitable']), the code was running. \n",
    "        By coding \"time <=24\", when the time to go to escape zone was added, the time was higher than 24h, thats why           the condition was \"<= 23.8\" that upon addition of the time to go to escape zone: \n",
    "        the total rob 6 467,300.00 in 23.99 hours \n",
    "        "
   ]
  },
  {
   "cell_type": "markdown",
   "id": "d61fba7a",
   "metadata": {},
   "source": [
    "## Step 5: Summary and Results"
   ]
  },
  {
   "cell_type": "markdown",
   "id": "679b4cf0",
   "metadata": {},
   "source": [
    "1. What is the total amount of money you were able to collect?\n"
   ]
  },
  {
   "cell_type": "code",
   "execution_count": 20,
   "id": "7dadad36",
   "metadata": {},
   "outputs": [
    {
     "name": "stdout",
     "output_type": "stream",
     "text": [
      "Total stolen: 6467300.00 in dolars\n"
     ]
    }
   ],
   "source": [
    "print(f'Total stolen: {total_stolen_amount:.2f} in dolars')"
   ]
  },
  {
   "cell_type": "markdown",
   "id": "5a66e503",
   "metadata": {},
   "source": [
    "2. What are the IDs of the banks you robbed, in order? Use the list from your solution."
   ]
  },
  {
   "cell_type": "code",
   "execution_count": 21,
   "id": "d24072b4",
   "metadata": {},
   "outputs": [
    {
     "name": "stdout",
     "output_type": "stream",
     "text": [
      "List of banks: [9448, 232, 5166, 279, 6216, 6535, 507, 6254, 8846, 299, 5296, 5295, 4465, 9275, 8231, 7595, 7877, 8703, 8908, 6712, 444, 9049, 5155, 2190, 2521, 4345, 517, 5725, 7583, 3089, 4794, 3297, 9880, 7689, 7649, 7764, 8375, 1733, 2442, 1372, 3026, 6759, 2243, 3516, 5562, 5126, 7087, 790, 613, 4906, 8286, 1997, 2729, 5719, 6987, 7665, 3005, 5563, 8355, 7701, 2741, 6104, 9378, 8849, 2827, 6022, 4287, 2037, 5610, 8525, 3193, 9228, 58, 209, 951, 2656, 70, 9881, 6740, 4789, 8022, 4696, 8966, 2346, 7074, 9653, 2331, 9736, 9401, 3926, 7064, 4605, 8206, 4725, 7258, 8287, 1757, 1914, 6468, 524, 433, 8469, 8690, 8579, 7560, 3466, 4987, 3914, 865, 5135, 2928, 487, 6097, 8562, 8436, 4762, 7544, 3798, 7343, 9241, 4499, 8550, 4757, 9195, 5933, 9583, 6528, 3803, 9546, 3613]\n"
     ]
    }
   ],
   "source": [
    "print('List of banks:', '[' + ', '.join(map(str, list_banks)) + ']')"
   ]
  },
  {
   "cell_type": "markdown",
   "id": "32255ec6",
   "metadata": {},
   "source": [
    "3. How much time did it take to rob all the banks + escape? Does your solution meet the 24 hour constraint? "
   ]
  },
  {
   "cell_type": "code",
   "execution_count": 22,
   "id": "2def9990",
   "metadata": {},
   "outputs": [
    {
     "name": "stdout",
     "output_type": "stream",
     "text": [
      "The time taken to rob all the banks + escape: 24.00 in hours\n"
     ]
    }
   ],
   "source": [
    "print(f'The time taken to rob all the banks + escape: {time:.2f} in hours') "
   ]
  },
  {
   "cell_type": "markdown",
   "id": "b4781639",
   "metadata": {},
   "source": [
    "4. What is the execution time of your solution? Does your solution run in 3 minutes or less?"
   ]
  },
  {
   "cell_type": "code",
   "execution_count": 23,
   "id": "911bc00c",
   "metadata": {},
   "outputs": [
    {
     "name": "stdout",
     "output_type": "stream",
     "text": [
      "The execution time for my code to run: 0.35 in seconds\n"
     ]
    }
   ],
   "source": [
    "execution_time = end_time - start_time\n",
    "print(f'The execution time for my code to run: {execution_time:.2f} in seconds')"
   ]
  },
  {
   "cell_type": "code",
   "execution_count": 24,
   "id": "d8c40185",
   "metadata": {},
   "outputs": [
    {
     "data": {
      "image/png": "[encoded data removed]",
      "text/plain": [
       "<Figure size 640x480 with 1 Axes>"
      ]
     },
     "metadata": {},
     "output_type": "display_data"
    }
   ],
   "source": [
    "#Graph of all the banks robbed\n",
    "\n",
    "banks_robbed = df[df['id'].isin(list_banks)]\n",
    "plt.scatter(banks_robbed['x_coordinate'], banks_robbed['y_coordinate'], label='banks_robbed')\n",
    "\n",
    "plt.xlabel('X Coordinate')\n",
    "plt.ylabel('Y Coordinate')\n",
    "plt.title('Banks robbed')\n",
    "\n",
    "\n",
    "plt.scatter(current_x, current_y, color='red', marker='X', label='Last Bank')\n",
    "\n",
    "\n",
    "plt.scatter(0.0,0.0, color='green', marker='D', label='Escape Zone')\n",
    "\n",
    "\n",
    "plt.legend()\n",
    "\n",
    "\n",
    "plt.show()\n",
    "\n"
   ]
  }
 ],
 "metadata": {
  "kernelspec": {
   "display_name": "Python 3 (ipykernel)",
   "language": "python",
   "name": "python3"
  },
  "language_info": {
   "codemirror_mode": {
    "name": "ipython",
    "version": 3
   },
   "file_extension": ".py",
   "mimetype": "text/x-python",
   "name": "python",
   "nbconvert_exporter": "python",
   "pygments_lexer": "ipython3",
   "version": "3.11.5"
  }
 },
 "nbformat": 4,
 "nbformat_minor": 5
}
